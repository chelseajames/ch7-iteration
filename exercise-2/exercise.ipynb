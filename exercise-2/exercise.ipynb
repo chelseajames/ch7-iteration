{
 "cells": [
  {
   "cell_type": "markdown",
   "metadata": {},
   "source": [
    "# Exercise 2\n",
    "Add the specified code for each code cell, running the cells _in order_."
   ]
  },
  {
   "cell_type": "markdown",
   "metadata": {},
   "source": [
    "Write a **`for`** loop that prints out every 5th number (multiples of 5) from 0 to 100 (inclusive).\n",
    "- _Tip:_ use an **`end=','`** keyword argument to the `print()` function to print all the numbers on the same line."
   ]
  },
  {
   "cell_type": "code",
   "execution_count": 2,
   "metadata": {},
   "outputs": [
    {
     "name": "stdout",
     "output_type": "stream",
     "text": [
      "0,5,10,15,20,25,30,35,40,45,50,55,60,65,70,75,80,85,90,95,100,"
     ]
    }
   ],
   "source": [
    "for count in range(0, 101, 5):\n",
    "    print(count, end=',')\n",
    "    "
   ]
  },
  {
   "cell_type": "markdown",
   "metadata": {},
   "source": [
    "Use a **`for`** loop to print out the first 15 [Triangular numbers](https://en.wikipedia.org/wiki/Triangular_number). This is a sequence of numbers for which the _nth_ value is the sum of the numbers from 0 to _n_. **Do this only using addition!**\n",
    "- _Hint:_ use an additional variable to keep track of the `total` value, and have that value increase by the number of times you've been through the loop each iteration!"
   ]
  },
  {
   "cell_type": "code",
   "execution_count": 3,
   "metadata": {},
   "outputs": [
    {
     "name": "stdout",
     "output_type": "stream",
     "text": [
      "1,3,6,10,15,21,28,36,45,55,66,78,91,105,120,"
     ]
    }
   ],
   "source": [
    "total = 1\n",
    "for count in range(15):\n",
    "    tri = int((total * (total + 1)) / 2)\n",
    "    print(tri, end=',')\n",
    "    total = total + 1\n",
    "    "
   ]
  },
  {
   "cell_type": "markdown",
   "metadata": {},
   "source": [
    "_Challenge_ Use a **`for`** loop to print out 20 numbers, each of which is larger than the previous by the the _sum_ of the **two** previous numbers (the [Fibonacci sequence](https://en.wikipedia.org/wiki/Fibonacci_number).\n",
    "- _Hint_: you'll need to keep track of the two previous values (start them at 0 and 1), and then \"update\" them each time through the loop, storing the  \"new total\" in the first previous variable, and the first previous variable in the second (be careful about the ordering of this!) "
   ]
  },
  {
   "cell_type": "code",
   "execution_count": 4,
   "metadata": {},
   "outputs": [
    {
     "name": "stdout",
     "output_type": "stream",
     "text": [
      "1,2,3,5,8,13,21,34,55,89,144,233,377,610,987,1597,2584,4181,6765,10946,"
     ]
    }
   ],
   "source": [
    "n1 = 0\n",
    "n2 = 1\n",
    "for count in range(20):\n",
    "    n2 = n1 + n2\n",
    "    n1 = n2 - n1\n",
    "    print(n2, end=',')\n",
    "    "
   ]
  },
  {
   "cell_type": "markdown",
   "metadata": {},
   "source": [
    "Define a function **`is_prime()`** that takes in a whole number as an argument and returns whether or not that number is prime (divisible by only 1 and itself).\n",
    "- You can check divisibility by seeing if the remainder (using the modulo **`%`** operator) is 0, or by comparing the integer of the quotient to the float of the quotient.\n",
    "- Be careful to only `return` that a value is in fact prime after you've checked **all** the factors!"
   ]
  },
  {
   "cell_type": "code",
   "execution_count": 17,
   "metadata": {},
   "outputs": [
    {
     "data": {
      "text/plain": [
       "'4 is not a prime number.'"
      ]
     },
     "execution_count": 17,
     "metadata": {},
     "output_type": "execute_result"
    }
   ],
   "source": [
    "def is_prime(n):\n",
    "    n = abs(int(n))\n",
    "    div = n - 1\n",
    "    remainder = 1\n",
    "    if n == 1 or n == 2 or n == 3:\n",
    "        message = \"is a prime number.\"\n",
    "    else:\n",
    "        while remainder != 0:\n",
    "            remainder = n%div\n",
    "            div = div - 1\n",
    "        if div > 0:\n",
    "            message = \"is not a prime number.\"\n",
    "        else:\n",
    "            message = \"is a prime number.\"\n",
    "    return str(n) + \" \" + message\n",
    "    "
   ]
  },
  {
   "cell_type": "markdown",
   "metadata": {},
   "source": [
    "Define a function **`find_primes()`** that takes in a whole number and _prints out_ all of the prime numbers that are less than or equal to the parameter. Call the function to print out the prime numbers up to 101.\n",
    "- Make sure to your `is_prime()` function!"
   ]
  },
  {
   "cell_type": "code",
   "execution_count": 18,
   "metadata": {},
   "outputs": [
    {
     "name": "stdout",
     "output_type": "stream",
     "text": [
      "101 is a prime number.\n",
      "97 is a prime number.\n",
      "89 is a prime number.\n",
      "83 is a prime number.\n",
      "79 is a prime number.\n",
      "73 is a prime number.\n",
      "71 is a prime number.\n",
      "67 is a prime number.\n",
      "61 is a prime number.\n",
      "59 is a prime number.\n",
      "53 is a prime number.\n",
      "47 is a prime number.\n",
      "43 is a prime number.\n",
      "41 is a prime number.\n",
      "37 is a prime number.\n",
      "31 is a prime number.\n",
      "29 is a prime number.\n",
      "23 is a prime number.\n",
      "19 is a prime number.\n",
      "17 is a prime number.\n",
      "13 is a prime number.\n",
      "11 is a prime number.\n",
      "7 is a prime number.\n",
      "5 is a prime number.\n",
      "3 is a prime number.\n",
      "2 is a prime number.\n",
      "1 is a prime number.\n"
     ]
    }
   ],
   "source": [
    "def find_primes(number):\n",
    "    number = abs(int(number))\n",
    "    while number > 0:\n",
    "        result = is_prime(number)\n",
    "        if result[-17] == \"s\":\n",
    "            print(result)\n",
    "        number = number - 1\n",
    "        \n",
    "find_primes(101)     \n",
    "\n",
    "    "
   ]
  },
  {
   "cell_type": "markdown",
   "metadata": {},
   "source": [
    "As discussed in the course text, `for` loops can be used to iterate over collections of data such as files. But it is also possible to convert a **`string`** into a collection (technically a _list_) of ___words___ by calling the [split()](https://docs.python.org/3.6/library/stdtypes.html#str.split) method on that string.\n",
    "\n",
    "Create a variable `quote` containing a quote from someone you admire. Then create a variable **`words`** by calling the `split()` method on the quote."
   ]
  },
  {
   "cell_type": "code",
   "execution_count": 20,
   "metadata": {},
   "outputs": [
    {
     "data": {
      "text/plain": [
       "['The',\n",
       " 'animals',\n",
       " 'of',\n",
       " 'the',\n",
       " 'world',\n",
       " 'exist',\n",
       " 'for',\n",
       " 'their',\n",
       " 'own',\n",
       " 'reasons.',\n",
       " 'They',\n",
       " 'were',\n",
       " 'not',\n",
       " 'made',\n",
       " 'for',\n",
       " 'humans',\n",
       " 'any',\n",
       " 'more',\n",
       " 'than',\n",
       " 'black',\n",
       " 'people',\n",
       " 'were',\n",
       " 'made',\n",
       " 'for',\n",
       " 'whites',\n",
       " 'or',\n",
       " 'women',\n",
       " 'for',\n",
       " 'men.']"
      ]
     },
     "execution_count": 20,
     "metadata": {},
     "output_type": "execute_result"
    }
   ],
   "source": [
    "quote = \"The animals of the world exist for their own reasons. They were not made for humans any more than black people were made for whites or women for men.\"\n",
    "words = quote.split(sep=' ')"
   ]
  },
  {
   "cell_type": "markdown",
   "metadata": {},
   "source": [
    "Use a **`for`** loop to iterate through the words, printing out each one on a separate line."
   ]
  },
  {
   "cell_type": "code",
   "execution_count": 21,
   "metadata": {},
   "outputs": [
    {
     "name": "stdout",
     "output_type": "stream",
     "text": [
      "The\n",
      "animals\n",
      "of\n",
      "the\n",
      "world\n",
      "exist\n",
      "for\n",
      "their\n",
      "own\n",
      "reasons.\n",
      "They\n",
      "were\n",
      "not\n",
      "made\n",
      "for\n",
      "humans\n",
      "any\n",
      "more\n",
      "than\n",
      "black\n",
      "people\n",
      "were\n",
      "made\n",
      "for\n",
      "whites\n",
      "or\n",
      "women\n",
      "for\n",
      "men.\n"
     ]
    }
   ],
   "source": [
    "for word in words:\n",
    "    print(word)"
   ]
  },
  {
   "cell_type": "markdown",
   "metadata": {},
   "source": [
    "Use a **`for`** loop to determine the _percentage_ of words in the quote that have 4 or more letters."
   ]
  },
  {
   "cell_type": "code",
   "execution_count": 25,
   "metadata": {},
   "outputs": [
    {
     "data": {
      "text/plain": [
       "'62%'"
      ]
     },
     "execution_count": 25,
     "metadata": {},
     "output_type": "execute_result"
    }
   ],
   "source": [
    "long_words = 0\n",
    "for word in words:\n",
    "    if len(word) >= 4:\n",
    "        long_words = long_words + 1\n",
    "percentage = round(long_words / len(words), 2)\n",
    "percentage = str(int(percentage*100)) + \"%\"\n",
    "percentage\n",
    "        "
   ]
  },
  {
   "cell_type": "markdown",
   "metadata": {},
   "source": [
    "It's also possible to use a `for` loop to iterate through the _letters_ in a string!\n",
    "\n",
    "Create a variable `word` containing your favorite word. Iterate through the letters in the word, printing `\"Give me a __!\"` for each (replacing the `__` with the letter). Finally, print `\"What does that spell?!\"` followed by the word."
   ]
  },
  {
   "cell_type": "code",
   "execution_count": 28,
   "metadata": {},
   "outputs": [
    {
     "name": "stdout",
     "output_type": "stream",
     "text": [
      "Give me a w!\n",
      "Give me an o!\n",
      "Give me a w!\n",
      "What does that spell?!\n",
      "wow\n"
     ]
    }
   ],
   "source": [
    "word = \"wow\"\n",
    "for letter in word:\n",
    "    if letter == \"a\" or letter == \"e\" or letter == \"i\" or letter == \"o\" or letter == \"u\":\n",
    "        print(\"Give me an \" + letter + \"!\")\n",
    "    else:\n",
    "        print(\"Give me a \" + letter + \"!\")\n",
    "print(\"What does that spell?!\\n\" + word)"
   ]
  },
  {
   "cell_type": "code",
   "execution_count": null,
   "metadata": {},
   "outputs": [],
   "source": []
  }
 ],
 "metadata": {
  "kernelspec": {
   "display_name": "Python 3",
   "language": "python",
   "name": "python3"
  },
  "language_info": {
   "codemirror_mode": {
    "name": "ipython",
    "version": 3
   },
   "file_extension": ".py",
   "mimetype": "text/x-python",
   "name": "python",
   "nbconvert_exporter": "python",
   "pygments_lexer": "ipython3",
   "version": "3.7.1"
  },
  "toc": {
   "colors": {
    "hover_highlight": "#DAA520",
    "running_highlight": "#FF0000",
    "selected_highlight": "#FFD700"
   },
   "moveMenuLeft": true,
   "nav_menu": {
    "height": "30px",
    "width": "252px"
   },
   "navigate_menu": true,
   "number_sections": true,
   "sideBar": true,
   "threshold": 4,
   "toc_cell": false,
   "toc_section_display": "block",
   "toc_window_display": false,
   "widenNotebook": false
  }
 },
 "nbformat": 4,
 "nbformat_minor": 2
}
